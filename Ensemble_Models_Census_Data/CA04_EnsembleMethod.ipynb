{
  "nbformat": 4,
  "nbformat_minor": 0,
  "metadata": {
    "colab": {
      "name": "CA04_EnsembleMethod.ipynb",
      "provenance": [],
      "toc_visible": true
    },
    "kernelspec": {
      "name": "python3",
      "display_name": "Python 3"
    }
  },
  "cells": [
    {
      "cell_type": "markdown",
      "metadata": {
        "id": "VqqiNhOFIniN",
        "colab_type": "text"
      },
      "source": [
        "# 1) Data Source and Contents"
      ]
    },
    {
      "cell_type": "code",
      "metadata": {
        "id": "2R1XuQArTVsG",
        "colab_type": "code",
        "colab": {}
      },
      "source": [
        "import numpy as np\n",
        "import pandas as pd\n",
        "import matplotlib.pyplot as plt\n",
        "from sklearn.tree import DecisionTreeClassifier \n",
        "from sklearn.ensemble import RandomForestClassifier, AdaBoostClassifier, GradientBoostingClassifier\n",
        "from sklearn.metrics import accuracy_score, auc, roc_auc_score\n",
        "import re\n",
        "import xgboost as xgb"
      ],
      "execution_count": 0,
      "outputs": []
    },
    {
      "cell_type": "code",
      "metadata": {
        "id": "bRfWtrzJTtUw",
        "colab_type": "code",
        "colab": {}
      },
      "source": [
        "census = pd.read_csv('https://github.com/ArinB/MSBA-CA-03-Decision-Trees/blob/master/census_data.csv?raw=true')"
      ],
      "execution_count": 0,
      "outputs": []
    },
    {
      "cell_type": "markdown",
      "metadata": {
        "id": "gInWWSaHIrIO",
        "colab_type": "text"
      },
      "source": [
        "# 2) Finding Optimal Value of a key Hyperparameter"
      ]
    },
    {
      "cell_type": "code",
      "metadata": {
        "id": "TsN4XF05OM7H",
        "colab_type": "code",
        "colab": {}
      },
      "source": [
        "#split the data into training and testing dataset\n",
        "variables = ['age_bin', 'capital_gl_bin', 'education_bin', 'hours_per_week_bin', 'msr_bin', 'occupation_bin', 'race_sex_bin']\n",
        "x_train = census.loc[census['flag']=='train',variables]\n",
        "y_train = census.loc[census['flag']=='train','y']\n",
        "x_train = pd.get_dummies(x_train, columns=variables, drop_first=True)\n",
        "\n",
        "x_test = census.loc[census['flag']=='test',variables]\n",
        "y_test = census.loc[census['flag']=='test','y']\n",
        "x_test = pd.get_dummies(x_test, columns=variables, drop_first=True)"
      ],
      "execution_count": 0,
      "outputs": []
    },
    {
      "cell_type": "code",
      "metadata": {
        "id": "e3r1V5UQMWPc",
        "colab_type": "code",
        "outputId": "10f8b866-d59f-421a-8694-07eb8edd6d45",
        "colab": {
          "base_uri": "https://localhost:8080/",
          "height": 283
        }
      },
      "source": [
        "results = []\n",
        "max_depth_options = [2,4,6,8,10,12,14,16,18,20]\n",
        "for trees in max_depth_options:\n",
        "  model = DecisionTreeClassifier(max_depth=trees, random_state=101)\n",
        "  model.fit(x_train,y_train)\n",
        "  y_pred = model.predict(x_test)\n",
        "  accuracy = np.mean(y_test==y_pred)\n",
        "  results.append(accuracy)\n",
        "\n",
        "plt.figure(figsize=(8,4))\n",
        "pd.Series(results, max_depth_options).plot(color='darkred', marker='o')"
      ],
      "execution_count": 5,
      "outputs": [
        {
          "output_type": "execute_result",
          "data": {
            "text/plain": [
              "<matplotlib.axes._subplots.AxesSubplot at 0x7fd9e15a85c0>"
            ]
          },
          "metadata": {
            "tags": []
          },
          "execution_count": 5
        },
        {
          "output_type": "display_data",
          "data": {
            "image/png": "[encoded data removed]",
            "text/plain": [
              "<Figure size 576x288 with 1 Axes>"
            ]
          },
          "metadata": {
            "tags": []
          }
        }
      ]
    },
    {
      "cell_type": "markdown",
      "metadata": {
        "id": "NPFP6UJrOoX-",
        "colab_type": "text"
      },
      "source": [
        "# 3) Building a Random Forest Model"
      ]
    },
    {
      "cell_type": "code",
      "metadata": {
        "id": "2VsQygt1gsk-",
        "colab_type": "code",
        "outputId": "bd168c5f-295e-46b5-9f56-4368440872f3",
        "colab": {
          "base_uri": "https://localhost:8080/",
          "height": 285
        }
      },
      "source": [
        "#plot a graph of Accuracy vs. n_estimator using Random Forest Model\n",
        "results = []\n",
        "n_estimator = [50,100,150,200,250,300,350,400,450,500]\n",
        "for n in n_estimator:\n",
        "  rf_model = RandomForestClassifier(n_estimators=n, random_state=101)\n",
        "  rf_model.fit(x_train,y_train)\n",
        "  y_pred = rf_model.predict(x_test)\n",
        "  accuracy = np.mean(y_test==y_pred)\n",
        "  results.append(accuracy)\n",
        "\n",
        "plt.figure(figsize=(8,4))\n",
        "pd.Series(results, n_estimator).plot(color='darkred', marker='o')"
      ],
      "execution_count": 16,
      "outputs": [
        {
          "output_type": "execute_result",
          "data": {
            "text/plain": [
              "<matplotlib.axes._subplots.AxesSubplot at 0x7fd9e0cfffd0>"
            ]
          },
          "metadata": {
            "tags": []
          },
          "execution_count": 16
        },
        {
          "output_type": "display_data",
          "data": {
            "image/png": "[encoded data removed]",
            "text/plain": [
              "<Figure size 576x288 with 1 Axes>"
            ]
          },
          "metadata": {
            "tags": []
          }
        }
      ]
    },
    {
      "cell_type": "code",
      "metadata": {
        "id": "d9RsCv3L4096",
        "colab_type": "code",
        "colab": {
          "base_uri": "https://localhost:8080/",
          "height": 52
        },
        "outputId": "043b7d18-fb8d-4547-afd1-a6991519d3f2"
      },
      "source": [
        "rf_accuracy = accuracy_score(y_test,y_pred)\n",
        "print(rf_accuracy)\n",
        "y_score=rf_model.predict_proba(x_test)[:,1]\n",
        "rf_auc = roc_auc_score(y_test,y_score)\n",
        "print(rf_auc)"
      ],
      "execution_count": 17,
      "outputs": [
        {
          "output_type": "stream",
          "text": [
            "0.8382777470671334\n",
            "0.8808219381449162\n"
          ],
          "name": "stdout"
        }
      ]
    },
    {
      "cell_type": "markdown",
      "metadata": {
        "id": "A6jKZa9FPATk",
        "colab_type": "text"
      },
      "source": [
        "# 4) Building AdaBoost, Gradient Boost, and XGB Model"
      ]
    },
    {
      "cell_type": "code",
      "metadata": {
        "id": "b6FGuHGwh-Jj",
        "colab_type": "code",
        "outputId": "ce54839d-b585-44c0-c37a-616bdc3be0fd",
        "colab": {
          "base_uri": "https://localhost:8080/",
          "height": 283
        }
      },
      "source": [
        "#plot a graph of Accuracy vs. n_estimator using AdaBoost Model\n",
        "results = []\n",
        "n_estimator = [50,100,150,200,250,300,350,400,450,500]\n",
        "for n in n_estimator:\n",
        "  ada_model = AdaBoostClassifier(n_estimators=n, random_state=101)\n",
        "  ada_model.fit(x_train,y_train)\n",
        "  y_pred = ada_model.predict(x_test)\n",
        "  accuracy = np.mean(y_test==y_pred)\n",
        "  results.append(accuracy)\n",
        "\n",
        "plt.figure(figsize=(8,4))\n",
        "pd.Series(results, n_estimator).plot(color='darkred', marker='o')"
      ],
      "execution_count": 18,
      "outputs": [
        {
          "output_type": "execute_result",
          "data": {
            "text/plain": [
              "<matplotlib.axes._subplots.AxesSubplot at 0x7fd9e0c148d0>"
            ]
          },
          "metadata": {
            "tags": []
          },
          "execution_count": 18
        },
        {
          "output_type": "display_data",
          "data": {
            "image/png": "[encoded data removed]",
            "text/plain": [
              "<Figure size 576x288 with 1 Axes>"
            ]
          },
          "metadata": {
            "tags": []
          }
        }
      ]
    },
    {
      "cell_type": "code",
      "metadata": {
        "id": "LM169wPE5_Fw",
        "colab_type": "code",
        "colab": {
          "base_uri": "https://localhost:8080/",
          "height": 52
        },
        "outputId": "ff28e4ef-7336-4665-ab89-4deb59ca33f4"
      },
      "source": [
        "ada_accuracy = accuracy_score(y_test,y_pred)\n",
        "print(ada_accuracy)\n",
        "y_score=ada_model.predict_proba(x_test)[:,1]\n",
        "ada_auc = roc_auc_score(y_test,y_score)\n",
        "print(ada_auc)"
      ],
      "execution_count": 19,
      "outputs": [
        {
          "output_type": "stream",
          "text": [
            "0.8451569313924207\n",
            "0.897430873511579\n"
          ],
          "name": "stdout"
        }
      ]
    },
    {
      "cell_type": "code",
      "metadata": {
        "id": "Vl5j7Obaimhn",
        "colab_type": "code",
        "outputId": "5081af3d-0abb-4824-e055-0dd3482ff227",
        "colab": {
          "base_uri": "https://localhost:8080/",
          "height": 283
        }
      },
      "source": [
        "#plot a graph of Accuracy vs. n_estimator using Gradient Boost Model\n",
        "results = []\n",
        "n_estimator = [50,100,150,200,250,300,350,400,450,500]\n",
        "for n in n_estimator:\n",
        "  grad_model = GradientBoostingClassifier(n_estimators=n, random_state=101)\n",
        "  grad_model.fit(x_train,y_train)\n",
        "  y_pred = grad_model.predict(x_test)\n",
        "  accuracy = np.mean(y_test==y_pred)\n",
        "  results.append(accuracy)\n",
        "\n",
        "plt.figure(figsize=(8,4))\n",
        "pd.Series(results, n_estimator).plot(color='darkred', marker='o')"
      ],
      "execution_count": 20,
      "outputs": [
        {
          "output_type": "execute_result",
          "data": {
            "text/plain": [
              "<matplotlib.axes._subplots.AxesSubplot at 0x7fd9e0b61da0>"
            ]
          },
          "metadata": {
            "tags": []
          },
          "execution_count": 20
        },
        {
          "output_type": "display_data",
          "data": {
            "image/png": "[encoded data removed]",
            "text/plain": [
              "<Figure size 576x288 with 1 Axes>"
            ]
          },
          "metadata": {
            "tags": []
          }
        }
      ]
    },
    {
      "cell_type": "code",
      "metadata": {
        "id": "G-Zxx-bA6Uc_",
        "colab_type": "code",
        "colab": {
          "base_uri": "https://localhost:8080/",
          "height": 52
        },
        "outputId": "d6ca6283-4365-4636-e947-76a4d57e4255"
      },
      "source": [
        "grad_accuracy = accuracy_score(y_test,y_pred)\n",
        "print(grad_accuracy)\n",
        "y_score=grad_model.predict_proba(x_test)[:,1]\n",
        "grad_auc = roc_auc_score(y_test,y_score)\n",
        "print(grad_auc)"
      ],
      "execution_count": 21,
      "outputs": [
        {
          "output_type": "stream",
          "text": [
            "0.8454640378355138\n",
            "0.8984838999510926\n"
          ],
          "name": "stdout"
        }
      ]
    },
    {
      "cell_type": "code",
      "metadata": {
        "id": "4sEWFWbPgZwy",
        "colab_type": "code",
        "colab": {}
      },
      "source": [
        "#remove the[,] and <, xgb won't work otherwise\n",
        "regex = re.compile(r\"\\[|\\]|<\", re.IGNORECASE)\n",
        "x_train.columns = [regex.sub(\"_\", col) if any(x in str(col) for x in set(('[', ']', '<'))) else col for col in x_train.columns.values]\n",
        "x_test.columns = [regex.sub(\"_\", col) if any(x in str(col) for x in set(('[', ']', '<'))) else col for col in x_test.columns.values]"
      ],
      "execution_count": 0,
      "outputs": []
    },
    {
      "cell_type": "code",
      "metadata": {
        "id": "12f-ZneYf_iF",
        "colab_type": "code",
        "outputId": "cc6a7239-6671-439f-d982-4514fa27f878",
        "colab": {
          "base_uri": "https://localhost:8080/",
          "height": 283
        }
      },
      "source": [
        "#plot a graph of Accuracy vs. n_estimator using XGB Model\n",
        "results = []\n",
        "n_estimator = [50,100,150,200,250,300,350,400,450,500]\n",
        "for n in n_estimator:\n",
        "  xgb_model = xgb.XGBClassifier(n_estimators=n, random_state=101)\n",
        "  xgb_model.fit(x_train,y_train)\n",
        "  y_pred = xgb_model.predict(x_test)\n",
        "  accuracy = np.mean(y_test==y_pred)\n",
        "  results.append(accuracy)\n",
        "\n",
        "plt.figure(figsize=(8,4))\n",
        "pd.Series(results, n_estimator).plot(color='darkred', marker='o')"
      ],
      "execution_count": 22,
      "outputs": [
        {
          "output_type": "execute_result",
          "data": {
            "text/plain": [
              "<matplotlib.axes._subplots.AxesSubplot at 0x7fd9e0abed30>"
            ]
          },
          "metadata": {
            "tags": []
          },
          "execution_count": 22
        },
        {
          "output_type": "display_data",
          "data": {
            "image/png": "[encoded data removed]",
            "text/plain": [
              "<Figure size 576x288 with 1 Axes>"
            ]
          },
          "metadata": {
            "tags": []
          }
        }
      ]
    },
    {
      "cell_type": "code",
      "metadata": {
        "id": "k_m1LyuC6pmf",
        "colab_type": "code",
        "colab": {
          "base_uri": "https://localhost:8080/",
          "height": 52
        },
        "outputId": "86f2acc3-01a3-489d-be4d-7b1b5f9a36ab"
      },
      "source": [
        "xgb_accuracy = accuracy_score(y_test,y_pred)\n",
        "print(xgb_accuracy)\n",
        "y_score=xgb_model.predict_proba(x_test)[:,1]\n",
        "xgb_auc = roc_auc_score(y_test,y_score)\n",
        "print(xgb_auc)"
      ],
      "execution_count": 23,
      "outputs": [
        {
          "output_type": "stream",
          "text": [
            "0.8463239358761747\n",
            "0.8985570625076711\n"
          ],
          "name": "stdout"
        }
      ]
    },
    {
      "cell_type": "markdown",
      "metadata": {
        "id": "KppdYgMgPIR-",
        "colab_type": "text"
      },
      "source": [
        "# 5) Compare Performance"
      ]
    },
    {
      "cell_type": "code",
      "metadata": {
        "id": "zpq48Q4R4Q4A",
        "colab_type": "code",
        "colab": {
          "base_uri": "https://localhost:8080/",
          "height": 110
        },
        "outputId": "c82bd871-5df3-4cfe-f644-69f2157649bc"
      },
      "source": [
        "models = {'Random Forest':{'Accuracy':rf_accuracy,'AUC':rf_auc},'AdaBoost':{'Accuracy':ada_accuracy,'AUC':ada_auc},'Gradient Boost':{'Accuracy':grad_accuracy,'AUC':grad_auc},'XGB':{'Accuracy':xgb_accuracy,'AUC':xgb_auc}}\n",
        "pctable = pd.DataFrame(models)\n",
        "pctable"
      ],
      "execution_count": 28,
      "outputs": [
        {
          "output_type": "execute_result",
          "data": {
            "text/html": [
              "<div>\n",
              "<style scoped>\n",
              "    .dataframe tbody tr th:only-of-type {\n",
              "        vertical-align: middle;\n",
              "    }\n",
              "\n",
              "    .dataframe tbody tr th {\n",
              "        vertical-align: top;\n",
              "    }\n",
              "\n",
              "    .dataframe thead th {\n",
              "        text-align: right;\n",
              "    }\n",
              "</style>\n",
              "<table border=\"1\" class=\"dataframe\">\n",
              "  <thead>\n",
              "    <tr style=\"text-align: right;\">\n",
              "      <th></th>\n",
              "      <th>Random Forest</th>\n",
              "      <th>AdaBoost</th>\n",
              "      <th>Gradient Boost</th>\n",
              "      <th>XGB</th>\n",
              "    </tr>\n",
              "  </thead>\n",
              "  <tbody>\n",
              "    <tr>\n",
              "      <th>Accuracy</th>\n",
              "      <td>0.838278</td>\n",
              "      <td>0.845157</td>\n",
              "      <td>0.845464</td>\n",
              "      <td>0.846324</td>\n",
              "    </tr>\n",
              "    <tr>\n",
              "      <th>AUC</th>\n",
              "      <td>0.880822</td>\n",
              "      <td>0.897431</td>\n",
              "      <td>0.898484</td>\n",
              "      <td>0.898557</td>\n",
              "    </tr>\n",
              "  </tbody>\n",
              "</table>\n",
              "</div>"
            ],
            "text/plain": [
              "          Random Forest  AdaBoost  Gradient Boost       XGB\n",
              "Accuracy       0.838278  0.845157        0.845464  0.846324\n",
              "AUC            0.880822  0.897431        0.898484  0.898557"
            ]
          },
          "metadata": {
            "tags": []
          },
          "execution_count": 28
        }
      ]
    }
  ]
}