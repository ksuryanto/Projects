{
  "nbformat": 4,
  "nbformat_minor": 0,
  "metadata": {
    "colab": {
      "name": "CA05_LogisticRegression_kNN.ipynb",
      "provenance": [],
      "toc_visible": true
    },
    "kernelspec": {
      "name": "python3",
      "display_name": "Python 3"
    }
  },
  "cells": [
    {
      "cell_type": "code",
      "metadata": {
        "id": "P7Uc_gPwIj2Z",
        "colab_type": "code",
        "colab": {}
      },
      "source": [
        "import pandas as pd\n",
        "import numpy as np\n",
        "import matplotlib.pyplot as plt\n",
        "from sklearn.linear_model import LogisticRegression\n",
        "from sklearn.model_selection import train_test_split\n",
        "from sklearn import preprocessing, metrics\n",
        "from sklearn.metrics import accuracy_score, roc_curve, roc_auc_score\n",
        "from sklearn.model_selection import GridSearchCV\n",
        "from sklearn.neighbors import NearestNeighbors"
      ],
      "execution_count": 0,
      "outputs": []
    },
    {
      "cell_type": "markdown",
      "metadata": {
        "id": "L9IbmXGIIrN3",
        "colab_type": "text"
      },
      "source": [
        "# A) Logistic Regression"
      ]
    },
    {
      "cell_type": "markdown",
      "metadata": {
        "id": "EQbBqENuGvka",
        "colab_type": "text"
      },
      "source": [
        "## 1) The Application \n",
        "Cardiovascular Disease (CVD) kills more people than cancer globally. A dataset of real heart patients\n",
        "collected from a 15 year heart study cohort is made available for this assignment. The dataset has 16\n",
        "patient features. Note that none of the features include any Blood Test information. "
      ]
    },
    {
      "cell_type": "markdown",
      "metadata": {
        "id": "XnE_Q1D9IlI0",
        "colab_type": "text"
      },
      "source": [
        "##2) Data Source and Description"
      ]
    },
    {
      "cell_type": "code",
      "metadata": {
        "id": "xqXhbgLxkLgn",
        "colab_type": "code",
        "outputId": "a2ca9af4-e433-48f8-cb0d-1306051102c9",
        "colab": {
          "base_uri": "https://localhost:8080/",
          "height": 202
        }
      },
      "source": [
        "cvd = pd.read_csv('https://github.com/ArinB/CA05-B-Logistic-Regression/raw/master/cvd_data.csv')\n",
        "cvd.head()"
      ],
      "execution_count": 2,
      "outputs": [
        {
          "output_type": "execute_result",
          "data": {
            "text/html": [
              "<div>\n",
              "<style scoped>\n",
              "    .dataframe tbody tr th:only-of-type {\n",
              "        vertical-align: middle;\n",
              "    }\n",
              "\n",
              "    .dataframe tbody tr th {\n",
              "        vertical-align: top;\n",
              "    }\n",
              "\n",
              "    .dataframe thead th {\n",
              "        text-align: right;\n",
              "    }\n",
              "</style>\n",
              "<table border=\"1\" class=\"dataframe\">\n",
              "  <thead>\n",
              "    <tr style=\"text-align: right;\">\n",
              "      <th></th>\n",
              "      <th>cvd_4types</th>\n",
              "      <th>age_s1</th>\n",
              "      <th>race</th>\n",
              "      <th>educat</th>\n",
              "      <th>mstat</th>\n",
              "      <th>hip</th>\n",
              "      <th>neck20</th>\n",
              "      <th>waist</th>\n",
              "      <th>av_weight_kg</th>\n",
              "      <th>cgpkyr</th>\n",
              "      <th>tea15</th>\n",
              "      <th>srhype</th>\n",
              "      <th>parrptdiab</th>\n",
              "      <th>bend25</th>\n",
              "      <th>happy25</th>\n",
              "      <th>tired25</th>\n",
              "      <th>hlthlm25</th>\n",
              "    </tr>\n",
              "  </thead>\n",
              "  <tbody>\n",
              "    <tr>\n",
              "      <th>0</th>\n",
              "      <td>0</td>\n",
              "      <td>54</td>\n",
              "      <td>1</td>\n",
              "      <td>2</td>\n",
              "      <td>1</td>\n",
              "      <td>110.0</td>\n",
              "      <td>40.0</td>\n",
              "      <td>108.0</td>\n",
              "      <td>87.5</td>\n",
              "      <td>34.0</td>\n",
              "      <td>0</td>\n",
              "      <td>1</td>\n",
              "      <td>0</td>\n",
              "      <td>1</td>\n",
              "      <td>2</td>\n",
              "      <td>3</td>\n",
              "      <td>4</td>\n",
              "    </tr>\n",
              "    <tr>\n",
              "      <th>1</th>\n",
              "      <td>0</td>\n",
              "      <td>56</td>\n",
              "      <td>3</td>\n",
              "      <td>2</td>\n",
              "      <td>1</td>\n",
              "      <td>113.0</td>\n",
              "      <td>34.0</td>\n",
              "      <td>107.0</td>\n",
              "      <td>83.5</td>\n",
              "      <td>0.0</td>\n",
              "      <td>0</td>\n",
              "      <td>0</td>\n",
              "      <td>0</td>\n",
              "      <td>2</td>\n",
              "      <td>2</td>\n",
              "      <td>1</td>\n",
              "      <td>3</td>\n",
              "    </tr>\n",
              "    <tr>\n",
              "      <th>2</th>\n",
              "      <td>0</td>\n",
              "      <td>54</td>\n",
              "      <td>1</td>\n",
              "      <td>3</td>\n",
              "      <td>1</td>\n",
              "      <td>110.0</td>\n",
              "      <td>44.5</td>\n",
              "      <td>105.0</td>\n",
              "      <td>86.2</td>\n",
              "      <td>49.5</td>\n",
              "      <td>0</td>\n",
              "      <td>0</td>\n",
              "      <td>0</td>\n",
              "      <td>3</td>\n",
              "      <td>2</td>\n",
              "      <td>6</td>\n",
              "      <td>4</td>\n",
              "    </tr>\n",
              "    <tr>\n",
              "      <th>3</th>\n",
              "      <td>0</td>\n",
              "      <td>54</td>\n",
              "      <td>1</td>\n",
              "      <td>3</td>\n",
              "      <td>1</td>\n",
              "      <td>129.0</td>\n",
              "      <td>42.5</td>\n",
              "      <td>110.0</td>\n",
              "      <td>89.1</td>\n",
              "      <td>0.0</td>\n",
              "      <td>0</td>\n",
              "      <td>0</td>\n",
              "      <td>0</td>\n",
              "      <td>3</td>\n",
              "      <td>2</td>\n",
              "      <td>1</td>\n",
              "      <td>3</td>\n",
              "    </tr>\n",
              "    <tr>\n",
              "      <th>4</th>\n",
              "      <td>0</td>\n",
              "      <td>51</td>\n",
              "      <td>3</td>\n",
              "      <td>2</td>\n",
              "      <td>1</td>\n",
              "      <td>122.0</td>\n",
              "      <td>37.0</td>\n",
              "      <td>113.0</td>\n",
              "      <td>81.3</td>\n",
              "      <td>0.0</td>\n",
              "      <td>0</td>\n",
              "      <td>0</td>\n",
              "      <td>0</td>\n",
              "      <td>2</td>\n",
              "      <td>1</td>\n",
              "      <td>1</td>\n",
              "      <td>2</td>\n",
              "    </tr>\n",
              "  </tbody>\n",
              "</table>\n",
              "</div>"
            ],
            "text/plain": [
              "   cvd_4types  age_s1  race  educat  ...  bend25  happy25  tired25  hlthlm25\n",
              "0           0      54     1       2  ...       1        2        3         4\n",
              "1           0      56     3       2  ...       2        2        1         3\n",
              "2           0      54     1       3  ...       3        2        6         4\n",
              "3           0      54     1       3  ...       3        2        1         3\n",
              "4           0      51     3       2  ...       2        1        1         2\n",
              "\n",
              "[5 rows x 17 columns]"
            ]
          },
          "metadata": {
            "tags": []
          },
          "execution_count": 2
        }
      ]
    },
    {
      "cell_type": "markdown",
      "metadata": {
        "id": "S1YRQXYOG-en",
        "colab_type": "text"
      },
      "source": [
        "Part 1: build a binary classifier model to predict the CVD Risk (Yes/No, or 1/0) using a Logistic\n",
        "Regression Model with the best performance possible (deliverable: Notebook)"
      ]
    },
    {
      "cell_type": "code",
      "metadata": {
        "id": "Uao1zcVykfUW",
        "colab_type": "code",
        "colab": {}
      },
      "source": [
        "#normalize the data\n",
        "scaler = preprocessing.MinMaxScaler()\n",
        "cvd_scaled = scaler.fit_transform(cvd.drop('cvd_4types',axis=1))"
      ],
      "execution_count": 0,
      "outputs": []
    },
    {
      "cell_type": "code",
      "metadata": {
        "id": "7pbpCe_VZV3a",
        "colab_type": "code",
        "colab": {}
      },
      "source": [
        "#separate the data into training and testing data\n",
        "X_train, X_test, y_train, y_test = train_test_split(cvd_scaled, cvd['cvd_4types'], test_size=0.2, random_state=42)"
      ],
      "execution_count": 0,
      "outputs": []
    },
    {
      "cell_type": "code",
      "metadata": {
        "id": "GZNGykhHZmQB",
        "colab_type": "code",
        "colab": {
          "base_uri": "https://localhost:8080/",
          "height": 35
        },
        "outputId": "f71c3092-050e-4faa-d54a-17ad4970ac27"
      },
      "source": [
        "#train the model\n",
        "logreg = LogisticRegression()\n",
        "logreg.fit(X_train,y_train)\n",
        "y_pred = logreg.predict(X_test)\n",
        "accuracy = accuracy_score(y_test, y_pred)\n",
        "accuracy"
      ],
      "execution_count": 5,
      "outputs": [
        {
          "output_type": "execute_result",
          "data": {
            "text/plain": [
              "0.6486902927580893"
            ]
          },
          "metadata": {
            "tags": []
          },
          "execution_count": 5
        }
      ]
    },
    {
      "cell_type": "code",
      "metadata": {
        "id": "AVX1TutyZ214",
        "colab_type": "code",
        "colab": {}
      },
      "source": [
        "#use Gridsearch to find the most optimal hyperparameter\n",
        "C = np.logspace(0, 4, 10)\n",
        "solver = ['sag','lbfgs','newton-cg']\n",
        "random_state = [42]\n",
        "hyperparameters = dict(C=C, solver=solver, random_state=random_state)\n",
        "clf = GridSearchCV(logreg, hyperparameters, cv=5)"
      ],
      "execution_count": 0,
      "outputs": []
    },
    {
      "cell_type": "code",
      "metadata": {
        "id": "oR5ppAncZ_2Q",
        "colab_type": "code",
        "colab": {}
      },
      "source": [
        "best_model = clf.fit(X_train, y_train)"
      ],
      "execution_count": 0,
      "outputs": []
    },
    {
      "cell_type": "code",
      "metadata": {
        "id": "h2FElkwzaEts",
        "colab_type": "code",
        "colab": {
          "base_uri": "https://localhost:8080/",
          "height": 52
        },
        "outputId": "afc44faf-b2b2-4245-d760-6c587f320a10"
      },
      "source": [
        "#view the best hyperparameter\n",
        "print('Best Solver:', best_model.best_estimator_.get_params()['solver'])\n",
        "print('Best C:', best_model.best_estimator_.get_params()['C'])"
      ],
      "execution_count": 8,
      "outputs": [
        {
          "output_type": "stream",
          "text": [
            "Best Solver: sag\n",
            "Best C: 2.7825594022071245\n"
          ],
          "name": "stdout"
        }
      ]
    },
    {
      "cell_type": "code",
      "metadata": {
        "id": "ZHcLhLIvloCD",
        "colab_type": "code",
        "colab": {
          "base_uri": "https://localhost:8080/",
          "height": 35
        },
        "outputId": "0a5d9c5d-0b8a-4477-b8e0-95108a49732c"
      },
      "source": [
        "#retrain the model\n",
        "logreg = LogisticRegression(C=best_model.best_estimator_.get_params()['C'], solver=best_model.best_estimator_.get_params()['solver'], random_state=42)\n",
        "logreg.fit(X_train,y_train)\n",
        "y_pred = logreg.predict(X_test)\n",
        "accuracy = accuracy_score(y_test, y_pred)\n",
        "accuracy"
      ],
      "execution_count": 20,
      "outputs": [
        {
          "output_type": "execute_result",
          "data": {
            "text/plain": [
              "0.6486902927580893"
            ]
          },
          "metadata": {
            "tags": []
          },
          "execution_count": 20
        }
      ]
    },
    {
      "cell_type": "markdown",
      "metadata": {
        "id": "3H5F-OIGHA6H",
        "colab_type": "text"
      },
      "source": [
        "Part 2: Display the Feature Importance of all the features sorted in the order of decreasing influence on\n",
        "the CVD Risk (deliverable: Notebook)"
      ]
    },
    {
      "cell_type": "code",
      "metadata": {
        "id": "3GKhuhEhsUY6",
        "colab_type": "code",
        "colab": {
          "base_uri": "https://localhost:8080/",
          "height": 312
        },
        "outputId": "c24561d5-77fb-49a4-eb7d-fa0175789304"
      },
      "source": [
        "feature_importance = pd.Series(logreg.coef_[0], index=list(cvd)[1:])\n",
        "feature_importance.sort_values(ascending=False)"
      ],
      "execution_count": 10,
      "outputs": [
        {
          "output_type": "execute_result",
          "data": {
            "text/plain": [
              "waist           4.944739\n",
              "educat          0.696364\n",
              "tired25         0.676151\n",
              "parrptdiab      0.579762\n",
              "bend25          0.252634\n",
              "srhype          0.144380\n",
              "age_s1          0.077304\n",
              "cgpkyr         -0.071648\n",
              "happy25        -0.170882\n",
              "neck20         -0.962432\n",
              "mstat          -1.195067\n",
              "tea15          -1.351675\n",
              "av_weight_kg   -2.115107\n",
              "race           -2.176842\n",
              "hlthlm25       -2.355853\n",
              "hip            -5.646065\n",
              "dtype: float64"
            ]
          },
          "metadata": {
            "tags": []
          },
          "execution_count": 10
        }
      ]
    },
    {
      "cell_type": "markdown",
      "metadata": {
        "id": "g0cRt_7EHCwS",
        "colab_type": "text"
      },
      "source": [
        "Part 3: Evaluate the performance of your model (including ROC Curve), explain the performance and\n",
        "draw a meaningful conclusion. (deliverable: Performance outputs in Notebook, explanation and\n",
        "conclusion in Word/PDF document)"
      ]
    },
    {
      "cell_type": "code",
      "metadata": {
        "id": "I2fZnK3tahkJ",
        "colab_type": "code",
        "colab": {
          "base_uri": "https://localhost:8080/",
          "height": 283
        },
        "outputId": "5bbe4217-b1ec-487b-d7d8-7357b9f74d69"
      },
      "source": [
        "y_pred_score = logreg.predict_proba(X_test)[:,1]\n",
        "fpr, tpr, thresholds = metrics.roc_curve(y_test, y_pred_score)\n",
        "metrics.auc(fpr, tpr)\n",
        "plt.plot(fpr, tpr, label = 'ROC Curve')\n",
        "plt.plot([0, 1], [0, 1], label = 'Random')\n",
        "plt.xlim([0, 1])\n",
        "plt.ylim([0, 1])\n",
        "plt.xlabel('False Positive Rate')\n",
        "plt.ylabel('True Positive Rate')\n",
        "plt.legend()\n",
        "plt.show()"
      ],
      "execution_count": 11,
      "outputs": [
        {
          "output_type": "display_data",
          "data": {
            "image/png": "[encoded data removed]",
            "text/plain": [
              "<Figure size 432x288 with 1 Axes>"
            ]
          },
          "metadata": {
            "tags": []
          }
        }
      ]
    },
    {
      "cell_type": "code",
      "metadata": {
        "id": "vU05sGI-nsoL",
        "colab_type": "code",
        "colab": {
          "base_uri": "https://localhost:8080/",
          "height": 35
        },
        "outputId": "c7120406-fa3a-4aa3-902e-acd8486ff56f"
      },
      "source": [
        "auc = roc_auc_score(y_test, y_pred_score)\n",
        "print(auc)"
      ],
      "execution_count": 12,
      "outputs": [
        {
          "output_type": "stream",
          "text": [
            "0.6830830772798423\n"
          ],
          "name": "stdout"
        }
      ]
    },
    {
      "cell_type": "markdown",
      "metadata": {
        "id": "3fiGBz-EHkzA",
        "colab_type": "text"
      },
      "source": [
        "# B) kNN Recommender"
      ]
    },
    {
      "cell_type": "markdown",
      "metadata": {
        "id": "JgyzARnwIz8l",
        "colab_type": "text"
      },
      "source": [
        "##1) The Application"
      ]
    },
    {
      "cell_type": "markdown",
      "metadata": {
        "id": "hHr1wvCAIEGd",
        "colab_type": "text"
      },
      "source": [
        "At scale, this would look like recommending products on Amazon, articles on Medium, movies on\n",
        "Netflix, or videos on YouTube. Although, we can be certain they all use more efficient means of making\n",
        "recommendations due to the enormous volume of data they process. However, we could replicate one of\n",
        "these recommender systems on a smaller scale using what we have learned here in this article. Let us\n",
        "build the core of a movies recommender system.\n",
        "**What question are we trying to answer?**\n",
        "Given a movies data set, what are the 5 most similar movies to a movie query?"
      ]
    },
    {
      "cell_type": "markdown",
      "metadata": {
        "id": "QGnY-xSuJE38",
        "colab_type": "text"
      },
      "source": [
        "##2) Data Source and Contents"
      ]
    },
    {
      "cell_type": "code",
      "metadata": {
        "id": "aILEqgVLHnQx",
        "colab_type": "code",
        "outputId": "af44ccba-10a6-4609-f340-0371914d8263",
        "colab": {
          "base_uri": "https://localhost:8080/",
          "height": 202
        }
      },
      "source": [
        "knn = pd.read_csv('https://github.com/ArinB/CA05-kNN/raw/master/movies_recommendation_data.csv')\n",
        "knn.head()"
      ],
      "execution_count": 13,
      "outputs": [
        {
          "output_type": "execute_result",
          "data": {
            "text/html": [
              "<div>\n",
              "<style scoped>\n",
              "    .dataframe tbody tr th:only-of-type {\n",
              "        vertical-align: middle;\n",
              "    }\n",
              "\n",
              "    .dataframe tbody tr th {\n",
              "        vertical-align: top;\n",
              "    }\n",
              "\n",
              "    .dataframe thead th {\n",
              "        text-align: right;\n",
              "    }\n",
              "</style>\n",
              "<table border=\"1\" class=\"dataframe\">\n",
              "  <thead>\n",
              "    <tr style=\"text-align: right;\">\n",
              "      <th></th>\n",
              "      <th>Movie ID</th>\n",
              "      <th>Movie Name</th>\n",
              "      <th>IMDB Rating</th>\n",
              "      <th>Biography</th>\n",
              "      <th>Drama</th>\n",
              "      <th>Thriller</th>\n",
              "      <th>Comedy</th>\n",
              "      <th>Crime</th>\n",
              "      <th>Mystery</th>\n",
              "      <th>History</th>\n",
              "      <th>Label</th>\n",
              "    </tr>\n",
              "  </thead>\n",
              "  <tbody>\n",
              "    <tr>\n",
              "      <th>0</th>\n",
              "      <td>58</td>\n",
              "      <td>The Imitation Game</td>\n",
              "      <td>8.0</td>\n",
              "      <td>1</td>\n",
              "      <td>1</td>\n",
              "      <td>1</td>\n",
              "      <td>0</td>\n",
              "      <td>0</td>\n",
              "      <td>0</td>\n",
              "      <td>0</td>\n",
              "      <td>0</td>\n",
              "    </tr>\n",
              "    <tr>\n",
              "      <th>1</th>\n",
              "      <td>8</td>\n",
              "      <td>Ex Machina</td>\n",
              "      <td>7.7</td>\n",
              "      <td>0</td>\n",
              "      <td>1</td>\n",
              "      <td>0</td>\n",
              "      <td>0</td>\n",
              "      <td>0</td>\n",
              "      <td>1</td>\n",
              "      <td>0</td>\n",
              "      <td>0</td>\n",
              "    </tr>\n",
              "    <tr>\n",
              "      <th>2</th>\n",
              "      <td>46</td>\n",
              "      <td>A Beautiful Mind</td>\n",
              "      <td>8.2</td>\n",
              "      <td>1</td>\n",
              "      <td>1</td>\n",
              "      <td>0</td>\n",
              "      <td>0</td>\n",
              "      <td>0</td>\n",
              "      <td>0</td>\n",
              "      <td>0</td>\n",
              "      <td>0</td>\n",
              "    </tr>\n",
              "    <tr>\n",
              "      <th>3</th>\n",
              "      <td>62</td>\n",
              "      <td>Good Will Hunting</td>\n",
              "      <td>8.3</td>\n",
              "      <td>0</td>\n",
              "      <td>1</td>\n",
              "      <td>0</td>\n",
              "      <td>0</td>\n",
              "      <td>0</td>\n",
              "      <td>0</td>\n",
              "      <td>0</td>\n",
              "      <td>0</td>\n",
              "    </tr>\n",
              "    <tr>\n",
              "      <th>4</th>\n",
              "      <td>97</td>\n",
              "      <td>Forrest Gump</td>\n",
              "      <td>8.8</td>\n",
              "      <td>0</td>\n",
              "      <td>1</td>\n",
              "      <td>0</td>\n",
              "      <td>0</td>\n",
              "      <td>0</td>\n",
              "      <td>0</td>\n",
              "      <td>0</td>\n",
              "      <td>0</td>\n",
              "    </tr>\n",
              "  </tbody>\n",
              "</table>\n",
              "</div>"
            ],
            "text/plain": [
              "   Movie ID          Movie Name  IMDB Rating  ...  Mystery  History  Label\n",
              "0        58  The Imitation Game          8.0  ...        0        0      0\n",
              "1         8          Ex Machina          7.7  ...        1        0      0\n",
              "2        46    A Beautiful Mind          8.2  ...        0        0      0\n",
              "3        62   Good Will Hunting          8.3  ...        0        0      0\n",
              "4        97        Forrest Gump          8.8  ...        0        0      0\n",
              "\n",
              "[5 rows x 11 columns]"
            ]
          },
          "metadata": {
            "tags": []
          },
          "execution_count": 13
        }
      ]
    },
    {
      "cell_type": "markdown",
      "metadata": {
        "id": "28juQmEOJPe-",
        "colab_type": "text"
      },
      "source": [
        "##3) Building the Recommendation System"
      ]
    },
    {
      "cell_type": "code",
      "metadata": {
        "id": "Wfnd8HT5s7nX",
        "colab_type": "code",
        "colab": {}
      },
      "source": [
        "#take out Movie ID and Label column from the data\n",
        "knn.drop(['Movie ID', 'Label'], axis = 1, inplace = True)\n",
        "#insert 'The Post' into the data \n",
        "knn = knn.append({'Movie Name' : 'The Post', 'IMDB Rating' : 7.2, 'Biography' : 1, 'Drama' : 1, 'Thriller' : 0, 'Comedy' : 0, 'Crime' : 0, 'Mystery' : 0, 'History' : 1}, ignore_index = True)\n"
      ],
      "execution_count": 0,
      "outputs": []
    },
    {
      "cell_type": "code",
      "metadata": {
        "id": "r37dpoZevUBO",
        "colab_type": "code",
        "colab": {}
      },
      "source": [
        "#make a copy of the data\n",
        "knn_numeric = knn.copy()\n",
        "#duplicate will only contain numerical data, thus Movie Name will need to be dropped\n",
        "knn_numeric.drop(['Movie Name'], axis = 1, inplace = True)"
      ],
      "execution_count": 0,
      "outputs": []
    },
    {
      "cell_type": "code",
      "metadata": {
        "id": "zrkF13Kvva8N",
        "colab_type": "code",
        "colab": {}
      },
      "source": [
        "#use NearestNeighbors method and brute algorithm for the kNN\n",
        "neighbor = NearestNeighbors(n_neighbors=6, algorithm='brute').fit(knn_numeric)"
      ],
      "execution_count": 0,
      "outputs": []
    },
    {
      "cell_type": "code",
      "metadata": {
        "id": "5GDkaoV2vlY_",
        "colab_type": "code",
        "colab": {
          "base_uri": "https://localhost:8080/",
          "height": 555
        },
        "outputId": "05e617ac-dfd3-4b68-ca38-bcaf088aa424"
      },
      "source": [
        "#set indices an integer\n",
        "distances, indices = neighbor.kneighbors(knn_numeric)\n",
        "indices.astype(int)\n",
        "print(indices)"
      ],
      "execution_count": 17,
      "outputs": [
        {
          "output_type": "stream",
          "text": [
            "[[ 0 16  2 29 28 27]\n",
            " [ 1  6 18 21 10  9]\n",
            " [ 2 16 29 27  3 28]\n",
            " [ 3 12  4  6 18 21]\n",
            " [ 4 12  3 15 17  2]\n",
            " [ 5 30  9 10 18 21]\n",
            " [ 6 21 18  9 10  3]\n",
            " [ 7 20 10  9 18 21]\n",
            " [ 8 22 24 14 19 17]\n",
            " [ 9 10 18 21  6 19]\n",
            " [ 9 10 18 21  6 19]\n",
            " [11 18 21  6 10  9]\n",
            " [12  4  3  6 17 15]\n",
            " [13 23 25  2 24 22]\n",
            " [14 19 26  8 22 24]\n",
            " [15 17 24 22  8  4]\n",
            " [16 29  2  0  6 28]\n",
            " [17 15 24 22  8 12]\n",
            " [21 18  9 10  6 19]\n",
            " [19 14 26  8 22 24]\n",
            " [20 26 19  7 14  1]\n",
            " [21 18  9 10  6 19]\n",
            " [22  8 24 17 14 19]\n",
            " [23 25 13 19 26 14]\n",
            " [24 22  8 17 15 14]\n",
            " [25  8 22 24 14 19]\n",
            " [26 19 14  8 22 24]\n",
            " [27 28  2 30 16 29]\n",
            " [28 27 30  2 16 29]\n",
            " [29 16  2 18 21  6]\n",
            " [30 28 27 29 16  2]]\n"
          ],
          "name": "stdout"
        }
      ]
    },
    {
      "cell_type": "code",
      "metadata": {
        "id": "E3hi9Zzxvo2i",
        "colab_type": "code",
        "colab": {}
      },
      "source": [
        "#create a function using the kNN algorithm that will return 5 movies that are similar to the movie in the query\n",
        "def knn_recommender(movie_title=None, movie_id=None):\n",
        "  if movie_title:\n",
        "    simulation = knn.loc[knn['Movie Name'] == movie_title].index[0]\n",
        "    for movie_id in indices[simulation][1:]:\n",
        "      print(knn.iloc[movie_id]['Movie Name'])"
      ],
      "execution_count": 0,
      "outputs": []
    },
    {
      "cell_type": "code",
      "metadata": {
        "id": "Pm15ZT6Dvova",
        "colab_type": "code",
        "colab": {
          "base_uri": "https://localhost:8080/",
          "height": 104
        },
        "outputId": "c087ed08-71e5-4bab-b749-866583792b8a"
      },
      "source": [
        "#return 5 recommended movies that are similar to 'The Post'\n",
        "knn_recommender(movie_title='The Post')"
      ],
      "execution_count": 19,
      "outputs": [
        {
          "output_type": "stream",
          "text": [
            "12 Years a Slave\n",
            "Hacksaw Ridge\n",
            "Queen of Katwe\n",
            "The Wind Rises\n",
            "A Beautiful Mind\n"
          ],
          "name": "stdout"
        }
      ]
    }
  ]
}